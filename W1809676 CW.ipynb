{
 "cells": [
  {
   "cell_type": "markdown",
   "metadata": {},
   "source": [
    "# Binomal Tree"
   ]
  },
  {
   "cell_type": "code",
   "execution_count": 85,
   "metadata": {
    "scrolled": true
   },
   "outputs": [
    {
     "name": "stdout",
     "output_type": "stream",
     "text": [
      "Requirement already satisfied: yfinance in c:\\users\\gboyega\\anaconda3\\lib\\site-packages (0.1.55)Note: you may need to restart the kernel to use updated packages.\n",
      "Requirement already satisfied: lxml>=4.5.1 in c:\\users\\gboyega\\anaconda3\\lib\\site-packages (from yfinance) (4.6.1)\n",
      "\n",
      "Requirement already satisfied: multitasking>=0.0.7 in c:\\users\\gboyega\\anaconda3\\lib\\site-packages (from yfinance) (0.0.9)\n",
      "Requirement already satisfied: numpy>=1.15 in c:\\users\\gboyega\\anaconda3\\lib\\site-packages (from yfinance) (1.19.2)\n",
      "Requirement already satisfied: pandas>=0.24 in c:\\users\\gboyega\\anaconda3\\lib\\site-packages (from yfinance) (1.1.3)\n",
      "Requirement already satisfied: requests>=2.20 in c:\\users\\gboyega\\anaconda3\\lib\\site-packages (from yfinance) (2.24.0)\n",
      "Requirement already satisfied: pytz>=2017.2 in c:\\users\\gboyega\\anaconda3\\lib\\site-packages (from pandas>=0.24->yfinance) (2020.1)\n",
      "Requirement already satisfied: python-dateutil>=2.7.3 in c:\\users\\gboyega\\anaconda3\\lib\\site-packages (from pandas>=0.24->yfinance) (2.8.1)\n",
      "Requirement already satisfied: urllib3!=1.25.0,!=1.25.1,<1.26,>=1.21.1 in c:\\users\\gboyega\\anaconda3\\lib\\site-packages (from requests>=2.20->yfinance) (1.25.11)\n",
      "Requirement already satisfied: idna<3,>=2.5 in c:\\users\\gboyega\\anaconda3\\lib\\site-packages (from requests>=2.20->yfinance) (2.10)\n",
      "Requirement already satisfied: certifi>=2017.4.17 in c:\\users\\gboyega\\anaconda3\\lib\\site-packages (from requests>=2.20->yfinance) (2020.6.20)\n",
      "Requirement already satisfied: chardet<4,>=3.0.2 in c:\\users\\gboyega\\anaconda3\\lib\\site-packages (from requests>=2.20->yfinance) (3.0.4)\n",
      "Requirement already satisfied: six>=1.5 in c:\\users\\gboyega\\anaconda3\\lib\\site-packages (from python-dateutil>=2.7.3->pandas>=0.24->yfinance) (1.15.0)\n"
     ]
    }
   ],
   "source": [
    "pip install yfinance "
   ]
  },
  {
   "cell_type": "code",
   "execution_count": 86,
   "metadata": {},
   "outputs": [],
   "source": [
    "import yfinance as yf\n",
    "import numpy as np \n",
    "import pandas as pd\n",
    "import matplotlib as mpl\n",
    "import scipy.stats as si\n",
    "import os"
   ]
  },
  {
   "cell_type": "code",
   "execution_count": 87,
   "metadata": {},
   "outputs": [
    {
     "name": "stdout",
     "output_type": "stream",
     "text": [
      "[*********************100%***********************]  1 of 1 completed\n"
     ]
    }
   ],
   "source": [
    "initial_data = yf.download(\"MSFT\", start=\"2020-03-01\", end=\"2021-03-01\")"
   ]
  },
  {
   "cell_type": "code",
   "execution_count": 88,
   "metadata": {},
   "outputs": [
    {
     "data": {
      "text/html": [
       "<div>\n",
       "<style scoped>\n",
       "    .dataframe tbody tr th:only-of-type {\n",
       "        vertical-align: middle;\n",
       "    }\n",
       "\n",
       "    .dataframe tbody tr th {\n",
       "        vertical-align: top;\n",
       "    }\n",
       "\n",
       "    .dataframe thead th {\n",
       "        text-align: right;\n",
       "    }\n",
       "</style>\n",
       "<table border=\"1\" class=\"dataframe\">\n",
       "  <thead>\n",
       "    <tr style=\"text-align: right;\">\n",
       "      <th></th>\n",
       "      <th>Open</th>\n",
       "      <th>High</th>\n",
       "      <th>Low</th>\n",
       "      <th>Close</th>\n",
       "      <th>Adj Close</th>\n",
       "      <th>Volume</th>\n",
       "    </tr>\n",
       "    <tr>\n",
       "      <th>Date</th>\n",
       "      <th></th>\n",
       "      <th></th>\n",
       "      <th></th>\n",
       "      <th></th>\n",
       "      <th></th>\n",
       "      <th></th>\n",
       "    </tr>\n",
       "  </thead>\n",
       "  <tbody>\n",
       "    <tr>\n",
       "      <th>2020-03-02</th>\n",
       "      <td>165.309998</td>\n",
       "      <td>172.919998</td>\n",
       "      <td>162.309998</td>\n",
       "      <td>172.789993</td>\n",
       "      <td>171.051773</td>\n",
       "      <td>71030800</td>\n",
       "    </tr>\n",
       "    <tr>\n",
       "      <th>2020-03-03</th>\n",
       "      <td>173.800003</td>\n",
       "      <td>175.000000</td>\n",
       "      <td>162.259995</td>\n",
       "      <td>164.509995</td>\n",
       "      <td>162.855057</td>\n",
       "      <td>71677000</td>\n",
       "    </tr>\n",
       "    <tr>\n",
       "      <th>2020-03-04</th>\n",
       "      <td>168.490005</td>\n",
       "      <td>170.699997</td>\n",
       "      <td>165.619995</td>\n",
       "      <td>170.550003</td>\n",
       "      <td>168.834290</td>\n",
       "      <td>49814400</td>\n",
       "    </tr>\n",
       "    <tr>\n",
       "      <th>2020-03-05</th>\n",
       "      <td>166.050003</td>\n",
       "      <td>170.869995</td>\n",
       "      <td>165.690002</td>\n",
       "      <td>166.270004</td>\n",
       "      <td>164.597351</td>\n",
       "      <td>47817300</td>\n",
       "    </tr>\n",
       "    <tr>\n",
       "      <th>2020-03-06</th>\n",
       "      <td>162.610001</td>\n",
       "      <td>163.110001</td>\n",
       "      <td>156.000000</td>\n",
       "      <td>161.570007</td>\n",
       "      <td>159.944641</td>\n",
       "      <td>72821100</td>\n",
       "    </tr>\n",
       "  </tbody>\n",
       "</table>\n",
       "</div>"
      ],
      "text/plain": [
       "                  Open        High         Low       Close   Adj Close  \\\n",
       "Date                                                                     \n",
       "2020-03-02  165.309998  172.919998  162.309998  172.789993  171.051773   \n",
       "2020-03-03  173.800003  175.000000  162.259995  164.509995  162.855057   \n",
       "2020-03-04  168.490005  170.699997  165.619995  170.550003  168.834290   \n",
       "2020-03-05  166.050003  170.869995  165.690002  166.270004  164.597351   \n",
       "2020-03-06  162.610001  163.110001  156.000000  161.570007  159.944641   \n",
       "\n",
       "              Volume  \n",
       "Date                  \n",
       "2020-03-02  71030800  \n",
       "2020-03-03  71677000  \n",
       "2020-03-04  49814400  \n",
       "2020-03-05  47817300  \n",
       "2020-03-06  72821100  "
      ]
     },
     "execution_count": 88,
     "metadata": {},
     "output_type": "execute_result"
    }
   ],
   "source": [
    "initial_data.head()"
   ]
  },
  {
   "cell_type": "code",
   "execution_count": 89,
   "metadata": {},
   "outputs": [
    {
     "data": {
      "text/plain": [
       "Date\n",
       "2020-03-02    171.051773\n",
       "2020-03-03    162.855057\n",
       "2020-03-04    168.834290\n",
       "2020-03-05    164.597351\n",
       "2020-03-06    159.944641\n",
       "Name: Adj Close, dtype: float64"
      ]
     },
     "execution_count": 89,
     "metadata": {},
     "output_type": "execute_result"
    }
   ],
   "source": [
    "initial_data['Adj Close'].head()"
   ]
  },
  {
   "cell_type": "code",
   "execution_count": 108,
   "metadata": {
    "scrolled": false
   },
   "outputs": [],
   "source": [
    "data = initial_data['Adj Close']"
   ]
  },
  {
   "cell_type": "code",
   "execution_count": 111,
   "metadata": {
    "scrolled": true
   },
   "outputs": [
    {
     "data": {
      "text/plain": [
       "Date\n",
       "2020-03-02    171.051773\n",
       "2020-03-03    162.855057\n",
       "2020-03-04    168.834290\n",
       "2020-03-05    164.597351\n",
       "2020-03-06    159.944641\n",
       "Name: Adj Close, dtype: float64"
      ]
     },
     "execution_count": 111,
     "metadata": {},
     "output_type": "execute_result"
    }
   ],
   "source": [
    "data.head()"
   ]
  },
  {
   "cell_type": "code",
   "execution_count": 114,
   "metadata": {},
   "outputs": [
    {
     "data": {
      "text/plain": [
       "Date\n",
       "2021-02-22    234.509995\n",
       "2021-02-23    233.270004\n",
       "2021-02-24    234.550003\n",
       "2021-02-25    228.990005\n",
       "2021-02-26    232.380005\n",
       "Name: Adj Close, dtype: float64"
      ]
     },
     "execution_count": 114,
     "metadata": {},
     "output_type": "execute_result"
    }
   ],
   "source": [
    "data.tail()"
   ]
  },
  {
   "cell_type": "code",
   "execution_count": 115,
   "metadata": {
    "scrolled": false
   },
   "outputs": [
    {
     "data": {
      "text/plain": [
       "array([<AxesSubplot:xlabel='Date'>], dtype=object)"
      ]
     },
     "execution_count": 115,
     "metadata": {},
     "output_type": "execute_result"
    },
    {
     "data": {
      "image/png": "[encoded data removed]",
      "text/plain": [
       "<Figure size 720x864 with 1 Axes>"
      ]
     },
     "metadata": {
      "needs_background": "light"
     },
     "output_type": "display_data"
    }
   ],
   "source": [
    "data.plot(figsize=(10, 12), subplots=True)"
   ]
  },
  {
   "cell_type": "code",
   "execution_count": 112,
   "metadata": {},
   "outputs": [
    {
     "data": {
      "text/plain": [
       "count    251.00\n",
       "mean     201.16\n",
       "std       24.67\n",
       "min      134.06\n",
       "25%      183.30\n",
       "50%      207.66\n",
       "75%      215.50\n",
       "max      244.43\n",
       "Name: Adj Close, dtype: float64"
      ]
     },
     "execution_count": 112,
     "metadata": {},
     "output_type": "execute_result"
    }
   ],
   "source": [
    "data.describe().round(2)"
   ]
  },
  {
   "cell_type": "code",
   "execution_count": 113,
   "metadata": {},
   "outputs": [
    {
     "data": {
      "text/plain": [
       "Date\n",
       "2020-03-02         NaN\n",
       "2020-03-03   -8.196716\n",
       "2020-03-04    5.979233\n",
       "2020-03-05   -4.236938\n",
       "2020-03-06   -4.652710\n",
       "Name: Adj Close, dtype: float64"
      ]
     },
     "execution_count": 113,
     "metadata": {},
     "output_type": "execute_result"
    }
   ],
   "source": [
    "data.diff().head()"
   ]
  },
  {
   "cell_type": "code",
   "execution_count": 100,
   "metadata": {},
   "outputs": [
    {
     "data": {
      "text/html": [
       "<div>\n",
       "<style scoped>\n",
       "    .dataframe tbody tr th:only-of-type {\n",
       "        vertical-align: middle;\n",
       "    }\n",
       "\n",
       "    .dataframe tbody tr th {\n",
       "        vertical-align: top;\n",
       "    }\n",
       "\n",
       "    .dataframe thead th {\n",
       "        text-align: right;\n",
       "    }\n",
       "</style>\n",
       "<table border=\"1\" class=\"dataframe\">\n",
       "  <thead>\n",
       "    <tr style=\"text-align: right;\">\n",
       "      <th></th>\n",
       "      <th>Open</th>\n",
       "      <th>High</th>\n",
       "      <th>Low</th>\n",
       "      <th>Close</th>\n",
       "      <th>Adj Close</th>\n",
       "      <th>Volume</th>\n",
       "    </tr>\n",
       "    <tr>\n",
       "      <th>Date</th>\n",
       "      <th></th>\n",
       "      <th></th>\n",
       "      <th></th>\n",
       "      <th></th>\n",
       "      <th></th>\n",
       "      <th></th>\n",
       "    </tr>\n",
       "  </thead>\n",
       "  <tbody>\n",
       "    <tr>\n",
       "      <th>2020-03-02</th>\n",
       "      <td>165.309998</td>\n",
       "      <td>172.919998</td>\n",
       "      <td>162.309998</td>\n",
       "      <td>172.789993</td>\n",
       "      <td>171.051773</td>\n",
       "      <td>71030800</td>\n",
       "    </tr>\n",
       "    <tr>\n",
       "      <th>2020-03-03</th>\n",
       "      <td>173.800003</td>\n",
       "      <td>175.000000</td>\n",
       "      <td>162.259995</td>\n",
       "      <td>164.509995</td>\n",
       "      <td>162.855057</td>\n",
       "      <td>71677000</td>\n",
       "    </tr>\n",
       "    <tr>\n",
       "      <th>2020-03-04</th>\n",
       "      <td>168.490005</td>\n",
       "      <td>170.699997</td>\n",
       "      <td>165.619995</td>\n",
       "      <td>170.550003</td>\n",
       "      <td>168.834290</td>\n",
       "      <td>49814400</td>\n",
       "    </tr>\n",
       "    <tr>\n",
       "      <th>2020-03-05</th>\n",
       "      <td>166.050003</td>\n",
       "      <td>170.869995</td>\n",
       "      <td>165.690002</td>\n",
       "      <td>166.270004</td>\n",
       "      <td>164.597351</td>\n",
       "      <td>47817300</td>\n",
       "    </tr>\n",
       "    <tr>\n",
       "      <th>2020-03-06</th>\n",
       "      <td>162.610001</td>\n",
       "      <td>163.110001</td>\n",
       "      <td>156.000000</td>\n",
       "      <td>161.570007</td>\n",
       "      <td>159.944641</td>\n",
       "      <td>72821100</td>\n",
       "    </tr>\n",
       "    <tr>\n",
       "      <th>...</th>\n",
       "      <td>...</td>\n",
       "      <td>...</td>\n",
       "      <td>...</td>\n",
       "      <td>...</td>\n",
       "      <td>...</td>\n",
       "      <td>...</td>\n",
       "    </tr>\n",
       "    <tr>\n",
       "      <th>2021-02-22</th>\n",
       "      <td>237.419998</td>\n",
       "      <td>237.929993</td>\n",
       "      <td>232.399994</td>\n",
       "      <td>234.509995</td>\n",
       "      <td>234.509995</td>\n",
       "      <td>36446900</td>\n",
       "    </tr>\n",
       "    <tr>\n",
       "      <th>2021-02-23</th>\n",
       "      <td>230.330002</td>\n",
       "      <td>234.830002</td>\n",
       "      <td>228.729996</td>\n",
       "      <td>233.270004</td>\n",
       "      <td>233.270004</td>\n",
       "      <td>30228700</td>\n",
       "    </tr>\n",
       "    <tr>\n",
       "      <th>2021-02-24</th>\n",
       "      <td>230.009995</td>\n",
       "      <td>235.199997</td>\n",
       "      <td>229.000000</td>\n",
       "      <td>234.550003</td>\n",
       "      <td>234.550003</td>\n",
       "      <td>26339700</td>\n",
       "    </tr>\n",
       "    <tr>\n",
       "      <th>2021-02-25</th>\n",
       "      <td>232.080002</td>\n",
       "      <td>234.589996</td>\n",
       "      <td>227.880005</td>\n",
       "      <td>228.990005</td>\n",
       "      <td>228.990005</td>\n",
       "      <td>39542200</td>\n",
       "    </tr>\n",
       "    <tr>\n",
       "      <th>2021-02-26</th>\n",
       "      <td>231.529999</td>\n",
       "      <td>235.369995</td>\n",
       "      <td>229.539993</td>\n",
       "      <td>232.380005</td>\n",
       "      <td>232.380005</td>\n",
       "      <td>37811200</td>\n",
       "    </tr>\n",
       "  </tbody>\n",
       "</table>\n",
       "<p>251 rows × 6 columns</p>\n",
       "</div>"
      ],
      "text/plain": [
       "                  Open        High         Low       Close   Adj Close  \\\n",
       "Date                                                                     \n",
       "2020-03-02  165.309998  172.919998  162.309998  172.789993  171.051773   \n",
       "2020-03-03  173.800003  175.000000  162.259995  164.509995  162.855057   \n",
       "2020-03-04  168.490005  170.699997  165.619995  170.550003  168.834290   \n",
       "2020-03-05  166.050003  170.869995  165.690002  166.270004  164.597351   \n",
       "2020-03-06  162.610001  163.110001  156.000000  161.570007  159.944641   \n",
       "...                ...         ...         ...         ...         ...   \n",
       "2021-02-22  237.419998  237.929993  232.399994  234.509995  234.509995   \n",
       "2021-02-23  230.330002  234.830002  228.729996  233.270004  233.270004   \n",
       "2021-02-24  230.009995  235.199997  229.000000  234.550003  234.550003   \n",
       "2021-02-25  232.080002  234.589996  227.880005  228.990005  228.990005   \n",
       "2021-02-26  231.529999  235.369995  229.539993  232.380005  232.380005   \n",
       "\n",
       "              Volume  \n",
       "Date                  \n",
       "2020-03-02  71030800  \n",
       "2020-03-03  71677000  \n",
       "2020-03-04  49814400  \n",
       "2020-03-05  47817300  \n",
       "2020-03-06  72821100  \n",
       "...              ...  \n",
       "2021-02-22  36446900  \n",
       "2021-02-23  30228700  \n",
       "2021-02-24  26339700  \n",
       "2021-02-25  39542200  \n",
       "2021-02-26  37811200  \n",
       "\n",
       "[251 rows x 6 columns]"
      ]
     },
     "execution_count": 100,
     "metadata": {},
     "output_type": "execute_result"
    }
   ],
   "source": [
    "initial_data"
   ]
  },
  {
   "cell_type": "code",
   "execution_count": 119,
   "metadata": {},
   "outputs": [
    {
     "name": "stdout",
     "output_type": "stream",
     "text": [
      "The spot price is  232.38 .\n"
     ]
    }
   ],
   "source": [
    "S = initial_data['Adj Close'][-1]\n",
    "print('The spot price is ', round(S,2), '.')"
   ]
  },
  {
   "cell_type": "code",
   "execution_count": 104,
   "metadata": {},
   "outputs": [
    {
     "name": "stdout",
     "output_type": "stream",
     "text": [
      "The annualised volatility is 42.92 %\n"
     ]
    }
   ],
   "source": [
    "log_return = np.log(initial_data['Adj Close'] / initial_data['Adj Close'].shift(1))\n",
    "vol_h = np.sqrt(252) * log_return.std()\n",
    "print('The annualised volatility is', round(vol_h*100,2), '%')"
   ]
  },
  {
   "cell_type": "code",
   "execution_count": null,
   "metadata": {},
   "outputs": [],
   "source": [
    "log_return = np.log(initial_data['Adj Close'] / initial_data['Adj Close'].shift(1))\n",
    "vol_h = np.sqrt(126) * log_return.std()\n",
    "print('The annualised volatility is', round(vol_h*100,2), '%')"
   ]
  },
  {
   "cell_type": "code",
   "execution_count": 120,
   "metadata": {},
   "outputs": [],
   "source": [
    "S = initial_data['Adj Close'][-1]  # spot stock price\n",
    "K = 240.0                           # strike\n",
    "T = 1/52                            # maturity \n",
    "r = 0.0167                          # risk free rate \n",
    "sig = 0.4292                        # diffusion coefficient or volatility\n",
    "N = 4                               # number of periods or number of time steps  \n",
    "payoff = \"put\"                      # payoff"
   ]
  },
  {
   "cell_type": "code",
   "execution_count": 121,
   "metadata": {},
   "outputs": [],
   "source": [
    "dT = float(T) / N                             # Delta t\n",
    "u = np.exp(sig * np.sqrt(dT))                 # up factor\n",
    "d = 1.0 / u                                   # down factor"
   ]
  },
  {
   "cell_type": "code",
   "execution_count": 122,
   "metadata": {},
   "outputs": [],
   "source": [
    "S = np.zeros((N + 1, N + 1))\n",
    "S[0, 0] = S0\n",
    "z = 1\n",
    "for t in range(1, N + 1):\n",
    "    for i in range(z):\n",
    "        S[i, t] = S[i, t-1] * u\n",
    "        S[i+1, t] = S[i, t-1] * d\n",
    "    z += 1"
   ]
  },
  {
   "cell_type": "code",
   "execution_count": 123,
   "metadata": {},
   "outputs": [
    {
     "data": {
      "text/plain": [
       "array([[232.38000488, 239.39948677, 246.63100551, 254.08096609,\n",
       "        261.75596695],\n",
       "       [  0.        , 225.56634268, 232.38000488, 239.39948677,\n",
       "        246.63100551],\n",
       "       [  0.        ,   0.        , 218.95246527, 225.56634268,\n",
       "        232.38000488],\n",
       "       [  0.        ,   0.        ,   0.        , 212.53251474,\n",
       "        218.95246527],\n",
       "       [  0.        ,   0.        ,   0.        ,   0.        ,\n",
       "        206.3008049 ]])"
      ]
     },
     "execution_count": 123,
     "metadata": {},
     "output_type": "execute_result"
    }
   ],
   "source": [
    "S"
   ]
  },
  {
   "cell_type": "code",
   "execution_count": 124,
   "metadata": {},
   "outputs": [
    {
     "data": {
      "text/plain": [
       "0.49390943535839255"
      ]
     },
     "execution_count": 124,
     "metadata": {},
     "output_type": "execute_result"
    }
   ],
   "source": [
    "a = np.exp(r * dT)    # risk free compound return\n",
    "p = (a - d)/ (u - d)  # risk neutral up probability\n",
    "q = 1.0 - p           # risk neutral down probability\n",
    "p"
   ]
  },
  {
   "cell_type": "code",
   "execution_count": 125,
   "metadata": {},
   "outputs": [
    {
     "data": {
      "text/plain": [
       "array([261.75596695, 246.63100551, 232.38000488, 218.95246527,\n",
       "       206.3008049 ])"
      ]
     },
     "execution_count": 125,
     "metadata": {},
     "output_type": "execute_result"
    }
   ],
   "source": [
    "S_T = S[:,-1]\n",
    "S_T"
   ]
  },
  {
   "cell_type": "code",
   "execution_count": 126,
   "metadata": {},
   "outputs": [
    {
     "data": {
      "text/plain": [
       "array([[ 0.        ,  0.        ,  0.        ,  0.        ,  0.        ],\n",
       "       [ 0.        ,  0.        ,  0.        ,  0.        ,  0.        ],\n",
       "       [ 0.        ,  0.        ,  0.        ,  0.        ,  7.61999512],\n",
       "       [ 0.        ,  0.        ,  0.        ,  0.        , 21.04753473],\n",
       "       [ 0.        ,  0.        ,  0.        ,  0.        , 33.6991951 ]])"
      ]
     },
     "execution_count": 126,
     "metadata": {},
     "output_type": "execute_result"
    }
   ],
   "source": [
    "V = np.zeros((N + 1, N + 1))\n",
    "if payoff ==\"call\":\n",
    "    V[:,-1] = np.maximum(S_T-K, 0.0)\n",
    "elif payoff ==\"put\":\n",
    "    V[:,-1] = np.maximum(K-S_T, 0.0)\n",
    "V"
   ]
  },
  {
   "cell_type": "code",
   "execution_count": 127,
   "metadata": {},
   "outputs": [
    {
     "data": {
      "text/plain": [
       "array([[10.45406189,  5.61878429,  1.95137814,  0.        ,  0.        ],\n",
       "       [ 0.        , 15.1746174 ,  9.19881081,  3.85609802,  0.        ],\n",
       "       [ 0.        ,  0.        , 21.00899936, 14.41438886,  7.61999512],\n",
       "       [ 0.        ,  0.        ,  0.        , 27.44821681, 21.04753473],\n",
       "       [ 0.        ,  0.        ,  0.        ,  0.        , 33.6991951 ]])"
      ]
     },
     "execution_count": 127,
     "metadata": {},
     "output_type": "execute_result"
    }
   ],
   "source": [
    "for j in range(N-1, -1, -1):\n",
    "    for i in range(j+1):\n",
    "        V[i,j] = np.exp(-r*dT) * (p * V[i,j + 1] + q * V[i + 1,j + 1])\n",
    "V"
   ]
  },
  {
   "cell_type": "code",
   "execution_count": 129,
   "metadata": {
    "scrolled": true
   },
   "outputs": [
    {
     "name": "stdout",
     "output_type": "stream",
     "text": [
      "Binary put 1.0\n"
     ]
    }
   ],
   "source": [
    "pp = (K - S[-1,:])>0\n",
    "bpp = np.mean(np.maximum(pp.astype(int),0))\n",
    "print('Binary put', str(bpp))"
   ]
  },
  {
   "cell_type": "markdown",
   "metadata": {},
   "source": [
    "# Monte Carlo Simulation"
   ]
  },
  {
   "cell_type": "code",
   "execution_count": 131,
   "metadata": {},
   "outputs": [],
   "source": [
    "def mcs_simulation_np(p):\n",
    "    M = p\n",
    "    I = p\n",
    "    dt = T / M \n",
    "    S = np.zeros((M + 1, I))\n",
    "    S[0] = S0 \n",
    "    rn = np.random.standard_normal(S.shape) \n",
    "    for t in range(1, M + 1): \n",
    "        S[t] = S[t-1] * np.exp((r - sigma ** 2 / 2) * dt + sigma * np.sqrt(dt) * rn[t]) \n",
    "    return S"
   ]
  },
  {
   "cell_type": "code",
   "execution_count": 132,
   "metadata": {},
   "outputs": [],
   "source": [
    "T = 1/52\n",
    "r = 0.0167\n",
    "sigma = 0.4292\n",
    "S0 = initial_data['Adj Close'][-1]\n",
    "K = 240        "
   ]
  },
  {
   "cell_type": "code",
   "execution_count": 133,
   "metadata": {},
   "outputs": [],
   "source": [
    "S = mcs_simulation_np(1000)"
   ]
  },
  {
   "cell_type": "code",
   "execution_count": 134,
   "metadata": {},
   "outputs": [
    {
     "data": {
      "text/plain": [
       "array([[232.38000488, 232.8645619 , 233.10790244, ..., 228.41352564,\n",
       "        228.19765753, 227.90003541],\n",
       "       [232.38000488, 231.94758727, 232.5616856 , ..., 242.22396643,\n",
       "        242.66395286, 242.0680712 ],\n",
       "       [232.38000488, 232.18824794, 232.42596957, ..., 218.08738643,\n",
       "        217.8168156 , 217.16387989],\n",
       "       ...,\n",
       "       [232.38000488, 233.53590857, 233.9259031 , ..., 230.06957132,\n",
       "        229.73325504, 229.78074847],\n",
       "       [232.38000488, 231.98811401, 231.95988055, ..., 232.27597901,\n",
       "        232.37321969, 231.83950945],\n",
       "       [232.38000488, 231.79559861, 231.59723831, ..., 258.16817065,\n",
       "        258.03587551, 258.61624369]])"
      ]
     },
     "execution_count": 134,
     "metadata": {},
     "output_type": "execute_result"
    }
   ],
   "source": [
    "S = np.transpose(S)\n",
    "S"
   ]
  },
  {
   "cell_type": "code",
   "execution_count": 135,
   "metadata": {},
   "outputs": [
    {
     "data": {
      "text/plain": [
       "Text(0.5, 1.0, 'Frequency distribution of the simulated end-of-preiod values')"
      ]
     },
     "execution_count": 135,
     "metadata": {},
     "output_type": "execute_result"
    },
    {
     "data": {
      "image/png": "[encoded data removed]",
      "text/plain": [
       "<Figure size 432x288 with 1 Axes>"
      ]
     },
     "metadata": {
      "needs_background": "light"
     },
     "output_type": "display_data"
    }
   ],
   "source": [
    "import matplotlib.pyplot as plt\n",
    "n, bins, patches = plt.hist(x=S[:,-1], bins='auto', color='#0504aa',alpha=0.7, rwidth=0.85)\n",
    "\n",
    "plt.grid(axis='y', alpha=0.75)\n",
    "plt.xlabel('S_T')\n",
    "plt.ylabel('Frequency')\n",
    "plt.title('Frequency distribution of the simulated end-of-preiod values')"
   ]
  },
  {
   "cell_type": "code",
   "execution_count": 136,
   "metadata": {},
   "outputs": [
    {
     "name": "stdout",
     "output_type": "stream",
     "text": [
      "Binary put 0.3776223776223776\n"
     ]
    }
   ],
   "source": [
    "pp = (K - S[-1,:])>0\n",
    "bpp = np.mean(np.maximum(pp.astype(int),0))\n",
    "print('Binary put', str(bpp))"
   ]
  },
  {
   "cell_type": "markdown",
   "metadata": {},
   "source": [
    "# Greeks"
   ]
  },
  {
   "cell_type": "markdown",
   "metadata": {},
   "source": [
    "## Option Value"
   ]
  },
  {
   "cell_type": "code",
   "execution_count": 138,
   "metadata": {},
   "outputs": [],
   "source": [
    "def binary_option_bsm(S, K, T, r, q, vol, payoff):\n",
    "    \n",
    "    #S: spot price\n",
    "    #K: strike price\n",
    "    #T: time to maturity\n",
    "    #r: risk free rate\n",
    "    #q: continuous dividend yield\n",
    "    #vol: volatility of underlying asset\n",
    "    #payoff: call or put\n",
    "    \n",
    "    d1 = (np.log(S / K) + (r - q + 0.5 * vol ** 2) * T) / (vol * np.sqrt(T))\n",
    "    d2 = (np.log(S / K) + (r - q - 0.5 * vol ** 2) * T) / (vol * np.sqrt(T))\n",
    "    if payoff == \"call\":\n",
    "        option_value = S * np.exp(-q * T) * si.norm.pdf(d1, 0.0, 1.0) - K * np.exp(-r * T) * si.norm.pdf(d2, 0.0, 1.0)\n",
    "    elif payoff == \"put\":\n",
    "        option_value =  - S * np.exp(-q * T) * si.norm.pdf(-d1, 0.0, 1.0) + K * np.exp(-r * T) * si.norm.pdf(-d2, 0.0, 1.0)\n",
    "    \n",
    "    return option_value"
   ]
  },
  {
   "cell_type": "code",
   "execution_count": 142,
   "metadata": {},
   "outputs": [
    {
     "data": {
      "text/plain": [
       "0.0"
      ]
     },
     "execution_count": 142,
     "metadata": {},
     "output_type": "execute_result"
    }
   ],
   "source": [
    "binary_option_bsm(231, 240, 1/52, 0.0167, 0.0095, 0.4292, 'put')"
   ]
  },
  {
   "cell_type": "code",
   "execution_count": 143,
   "metadata": {},
   "outputs": [],
   "source": [
    "S = np.linspace(50,150,11)\n",
    "Call = np.zeros((len(S),1))\n",
    "Put = np.zeros((len(S),1))\n",
    "for i in range(len(S)):\n",
    "        Put [i] = binary_option_bsm(231, 240, 1/52, 0.0167, 0.0095, 0.4292, 'put')"
   ]
  },
  {
   "cell_type": "code",
   "execution_count": 144,
   "metadata": {},
   "outputs": [
    {
     "data": {
      "text/plain": [
       "<matplotlib.legend.Legend at 0x1bd061a92b0>"
      ]
     },
     "execution_count": 144,
     "metadata": {},
     "output_type": "execute_result"
    },
    {
     "data": {
      "image/png": "[encoded data removed]",
      "text/plain": [
       "<Figure size 432x288 with 1 Axes>"
      ]
     },
     "metadata": {
      "needs_background": "light"
     },
     "output_type": "display_data"
    }
   ],
   "source": [
    "fig = plt.figure()\n",
    "plt.plot(S, Call, '-')\n",
    "plt.plot(S, Put, '--')\n",
    "plt.grid()\n",
    "plt.xlabel('Stock Price')\n",
    "plt.ylabel('Option Price')\n",
    "plt.title('Binary Option')\n",
    "plt.legend(['Put'])"
   ]
  },
  {
   "cell_type": "markdown",
   "metadata": {},
   "source": [
    "### Delta"
   ]
  },
  {
   "cell_type": "code",
   "execution_count": 145,
   "metadata": {},
   "outputs": [],
   "source": [
    "def delta(S, K, T, r, q, vol, payoff):\n",
    "    \n",
    "    d1 = (np.log(S / K) + (r - q + 0.5 * vol ** 2) * T) / (vol * np.sqrt(T))\n",
    "    d2 = (np.log(S / K) + (r - q - 0.5 * vol ** 2) * T) / (vol * np.sqrt(T))\n",
    "    if payoff == \"call\":\n",
    "        delta = np.exp(-r * T) * si.norm.pdf(d2, 0.0, 1.0) / (vol * S * np.sqrt(T))\n",
    "    elif payoff == \"put\":\n",
    "        delta =  - np.exp(-r * T) * si.norm.pdf(d2, 0.0, 1.0) / (vol * S * np.sqrt(T))\n",
    "    \n",
    "    return delta"
   ]
  },
  {
   "cell_type": "code",
   "execution_count": 146,
   "metadata": {},
   "outputs": [
    {
     "data": {
      "text/plain": [
       "-0.0231814235708056"
      ]
     },
     "execution_count": 146,
     "metadata": {},
     "output_type": "execute_result"
    }
   ],
   "source": [
    "delta(231, 240, 1/52, 0.0167, 0.0095, 0.4292, 'put')"
   ]
  },
  {
   "cell_type": "code",
   "execution_count": 148,
   "metadata": {},
   "outputs": [],
   "source": [
    "S = np.linspace(50,150,11)\n",
    "Delta_Call = np.zeros((len(S),1))\n",
    "Delta_Put = np.zeros((len(S),1))\n",
    "for i in range(len(S)):\n",
    "    Delta_Put [i] = delta(S[i], 240, 1/52, 0.0167, 0.0095, 0.4292, 'put')"
   ]
  },
  {
   "cell_type": "code",
   "execution_count": 150,
   "metadata": {},
   "outputs": [
    {
     "data": {
      "text/plain": [
       "<matplotlib.legend.Legend at 0x1bd06482850>"
      ]
     },
     "execution_count": 150,
     "metadata": {},
     "output_type": "execute_result"
    },
    {
     "data": {
      "image/png": "[encoded data removed]",
      "text/plain": [
       "<Figure size 432x288 with 1 Axes>"
      ]
     },
     "metadata": {
      "needs_background": "light"
     },
     "output_type": "display_data"
    }
   ],
   "source": [
    "fig = plt.figure()\n",
    "plt.plot(S, Delta_Put, '--')\n",
    "plt.grid()\n",
    "plt.xlabel('Stock Price')\n",
    "plt.ylabel('Delta')\n",
    "plt.title('Delta')\n",
    "plt.legend(['Delta for Put'])"
   ]
  },
  {
   "cell_type": "markdown",
   "metadata": {},
   "source": [
    "### Gamma"
   ]
  },
  {
   "cell_type": "code",
   "execution_count": 156,
   "metadata": {},
   "outputs": [],
   "source": [
    "def gamma(S, K, T, r, q, vol, payoff):\n",
    "    \n",
    "    d1 = (np.log(S / K) + (r - q + 0.5 * vol ** 2) * T) / (vol * np.sqrt(T))\n",
    "    d2 = (np.log(S / K) + (r - q - 0.5 * vol ** 2) * T) / (vol * np.sqrt(T))\n",
    "    gamma = np.exp(-r * T) * d1 * si.norm.pdf(d2, 0.0, 1.0) / ((vol**2) * (S**2) * np.sqrt(T))\n",
    "    \n",
    "    return gamma"
   ]
  },
  {
   "cell_type": "code",
   "execution_count": 157,
   "metadata": {},
   "outputs": [
    {
     "data": {
      "text/plain": [
       "-0.00014264424976108436"
      ]
     },
     "execution_count": 157,
     "metadata": {},
     "output_type": "execute_result"
    }
   ],
   "source": [
    "gamma(231, 240, 1/52, 0.0167, 0.0095, 0.4292, 'put')"
   ]
  },
  {
   "cell_type": "code",
   "execution_count": 158,
   "metadata": {},
   "outputs": [],
   "source": [
    "S = np.linspace(50,150,11)\n",
    "Gamma = np.zeros((len(S),1))\n",
    "for i in range(len(S)):\n",
    "    Gamma [i] = gamma(S[i], 240, 1/52, 0.0167, 0.0095, 0.4292, 'put')"
   ]
  },
  {
   "cell_type": "code",
   "execution_count": 159,
   "metadata": {},
   "outputs": [
    {
     "data": {
      "text/plain": [
       "<matplotlib.legend.Legend at 0x1bd065678b0>"
      ]
     },
     "execution_count": 159,
     "metadata": {},
     "output_type": "execute_result"
    },
    {
     "data": {
      "image/png": "[encoded data removed]",
      "text/plain": [
       "<Figure size 432x288 with 1 Axes>"
      ]
     },
     "metadata": {
      "needs_background": "light"
     },
     "output_type": "display_data"
    }
   ],
   "source": [
    "fig = plt.figure()\n",
    "plt.plot(S, Gamma, '-')\n",
    "plt.grid()\n",
    "plt.xlabel('Stock Price')\n",
    "plt.ylabel('Gamma')\n",
    "plt.title('Gamma')\n",
    "plt.legend(['Gamma for Put'])"
   ]
  },
  {
   "cell_type": "markdown",
   "metadata": {},
   "source": [
    "### Speed"
   ]
  },
  {
   "cell_type": "code",
   "execution_count": 168,
   "metadata": {},
   "outputs": [],
   "source": [
    "def speed(S, K, T, r, q, vol, payoff):\n",
    "    \n",
    "    d1 = (np.log(S / K) + (r - q + 0.5 * vol ** 2) * T) / (vol * np.sqrt(T))\n",
    "    d2 = (np.log(S / K) + (r - q - 0.5 * vol ** 2) * T) / (vol * np.sqrt(T))\n",
    "    speed = np.exp(-r * T) * si.norm.pdf(d2, 0.0, 1.0) / ((vol**2) * (S**3) * np.sqrt(T)) * ((-2 * (d1)) + (1 - (d1) * (d2) / vol * np.sqrt(T)))\n",
    "    \n",
    "    return speed"
   ]
  },
  {
   "cell_type": "code",
   "execution_count": 169,
   "metadata": {},
   "outputs": [
    {
     "data": {
      "text/plain": [
       "2.1135955709601447e-06"
      ]
     },
     "execution_count": 169,
     "metadata": {},
     "output_type": "execute_result"
    }
   ],
   "source": [
    "speed(231, 240, 1/52, 0.0167, 0.0095, 0.4292, 'put')"
   ]
  },
  {
   "cell_type": "code",
   "execution_count": 170,
   "metadata": {},
   "outputs": [],
   "source": [
    "S = np.linspace(50,150,11)\n",
    "Speed = np.zeros((len(S),1))\n",
    "for i in range(len(S)):\n",
    "    Speed [i] = speed(S[i], 240, 1/52, 0.0167, 0.0095, 0.4292, 'put')"
   ]
  },
  {
   "cell_type": "code",
   "execution_count": 171,
   "metadata": {},
   "outputs": [
    {
     "data": {
      "text/plain": [
       "<matplotlib.legend.Legend at 0x1bd065c3c40>"
      ]
     },
     "execution_count": 171,
     "metadata": {},
     "output_type": "execute_result"
    },
    {
     "data": {
      "image/png": "[encoded data removed]",
      "text/plain": [
       "<Figure size 432x288 with 1 Axes>"
      ]
     },
     "metadata": {
      "needs_background": "light"
     },
     "output_type": "display_data"
    }
   ],
   "source": [
    "fig = plt.figure()\n",
    "plt.plot(S, Speed, '-')\n",
    "plt.grid()\n",
    "plt.xlabel('Stock Price')\n",
    "plt.ylabel('Speed')\n",
    "plt.title('Speed')\n",
    "plt.legend(['Speed for Put'])"
   ]
  },
  {
   "cell_type": "markdown",
   "metadata": {},
   "source": [
    "### Vega"
   ]
  },
  {
   "cell_type": "code",
   "execution_count": 174,
   "metadata": {},
   "outputs": [],
   "source": [
    "def vega(S, K, T, r, q, vol, payoff):\n",
    "    \n",
    "    d1 = (np.log(S / K) + (r - q + 0.5 * vol ** 2) * T) / (vol * np.sqrt(T))\n",
    "    d2 = (np.log(S / K) + (r - q - 0.5 * vol ** 2) * T) / (vol * np.sqrt(T))\n",
    "    vega = np.exp(-r * T) * si.norm.pdf((d2) * (d1 / vol))  \n",
    "    \n",
    "    return vega"
   ]
  },
  {
   "cell_type": "code",
   "execution_count": 175,
   "metadata": {},
   "outputs": [
    {
     "data": {
      "text/plain": [
       "0.25354598616213436"
      ]
     },
     "execution_count": 175,
     "metadata": {},
     "output_type": "execute_result"
    }
   ],
   "source": [
    "vega(231, 240, 1/52, 0.0167, 0.0095, 0.4292, 'put')"
   ]
  },
  {
   "cell_type": "code",
   "execution_count": 176,
   "metadata": {},
   "outputs": [],
   "source": [
    "vol = np.linspace(0.1,0.4,13)\n",
    "Vega = np.zeros((len(vol),1))\n",
    "for i in range(len(vol)):\n",
    "    Vega [i] = vega(231, 240, 1/52, 0.0167, 0.0095, 0.4292, 'put')"
   ]
  },
  {
   "cell_type": "code",
   "execution_count": 177,
   "metadata": {},
   "outputs": [
    {
     "data": {
      "text/plain": [
       "<matplotlib.legend.Legend at 0x1bd0663a4c0>"
      ]
     },
     "execution_count": 177,
     "metadata": {},
     "output_type": "execute_result"
    },
    {
     "data": {
      "image/png": "[encoded data removed]",
      "text/plain": [
       "<Figure size 432x288 with 1 Axes>"
      ]
     },
     "metadata": {
      "needs_background": "light"
     },
     "output_type": "display_data"
    }
   ],
   "source": [
    "fig = plt.figure()\n",
    "plt.plot(vol, Vega, '-')\n",
    "plt.grid()\n",
    "plt.xlabel('Volatility')\n",
    "plt.ylabel('Vega')\n",
    "plt.title('Vega')\n",
    "plt.legend(['Vega for Put'])"
   ]
  },
  {
   "cell_type": "code",
   "execution_count": null,
   "metadata": {},
   "outputs": [],
   "source": []
  }
 ],
 "metadata": {
  "kernelspec": {
   "display_name": "Python 3",
   "language": "python",
   "name": "python3"
  },
  "language_info": {
   "codemirror_mode": {
    "name": "ipython",
    "version": 3
   },
   "file_extension": ".py",
   "mimetype": "text/x-python",
   "name": "python",
   "nbconvert_exporter": "python",
   "pygments_lexer": "ipython3",
   "version": "3.8.5"
  }
 },
 "nbformat": 4,
 "nbformat_minor": 4
}
